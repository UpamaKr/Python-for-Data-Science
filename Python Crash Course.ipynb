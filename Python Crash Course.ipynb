{
 "cells": [
  {
   "cell_type": "markdown",
   "id": "07911ea1",
   "metadata": {},
   "source": [
    "## Python Basics and Exercises\n",
    "\n",
    "Area Covered: \n",
    "Data types\n",
    "  Numbers\n",
    "  Strings\n",
    "  Printing\n",
    "  Lists\n",
    "  Dictionaries\n",
    "  Booleans\n",
    "  Tuples\n",
    "  Sets\n",
    "Comparison Operators\n",
    "if, elif, else Statements\n",
    "for Loops\n",
    "while Loops\n",
    "range()\n",
    "list comprehension\n",
    "Functions\n",
    "lambda expressions\n",
    "map and filter\n",
    "methods\n"
   ]
  },
  {
   "cell_type": "markdown",
   "id": "2322907c",
   "metadata": {},
   "source": [
    "# Data types\n",
    " "
   ]
  },
  {
   "cell_type": "markdown",
   "id": "9a209479",
   "metadata": {},
   "source": [
    "# Numbers"
   ]
  },
  {
   "cell_type": "code",
   "execution_count": 2,
   "id": "006edce3",
   "metadata": {},
   "outputs": [
    {
     "data": {
      "text/plain": [
       "2"
      ]
     },
     "execution_count": 2,
     "metadata": {},
     "output_type": "execute_result"
    }
   ],
   "source": [
    "1+1"
   ]
  },
  {
   "cell_type": "code",
   "execution_count": 3,
   "id": "22d71951",
   "metadata": {},
   "outputs": [
    {
     "data": {
      "text/plain": [
       "4"
      ]
     },
     "execution_count": 3,
     "metadata": {},
     "output_type": "execute_result"
    }
   ],
   "source": [
    "2*2"
   ]
  },
  {
   "cell_type": "code",
   "execution_count": 4,
   "id": "2b00c2ab",
   "metadata": {},
   "outputs": [
    {
     "data": {
      "text/plain": [
       "1.0"
      ]
     },
     "execution_count": 4,
     "metadata": {},
     "output_type": "execute_result"
    }
   ],
   "source": [
    "2/2"
   ]
  },
  {
   "cell_type": "code",
   "execution_count": 5,
   "id": "28c8a8b3",
   "metadata": {},
   "outputs": [
    {
     "data": {
      "text/plain": [
       "16"
      ]
     },
     "execution_count": 5,
     "metadata": {},
     "output_type": "execute_result"
    }
   ],
   "source": [
    "2**4"
   ]
  },
  {
   "cell_type": "code",
   "execution_count": 6,
   "id": "14e55adc",
   "metadata": {},
   "outputs": [
    {
     "data": {
      "text/plain": [
       "0"
      ]
     },
     "execution_count": 6,
     "metadata": {},
     "output_type": "execute_result"
    }
   ],
   "source": [
    "6%2"
   ]
  },
  {
   "cell_type": "code",
   "execution_count": 7,
   "id": "b00ea1cb",
   "metadata": {},
   "outputs": [
    {
     "data": {
      "text/plain": [
       "1"
      ]
     },
     "execution_count": 7,
     "metadata": {},
     "output_type": "execute_result"
    }
   ],
   "source": [
    "3%2"
   ]
  },
  {
   "cell_type": "code",
   "execution_count": 9,
   "id": "654eb8cf",
   "metadata": {},
   "outputs": [
    {
     "data": {
      "text/plain": [
       "24"
      ]
     },
     "execution_count": 9,
     "metadata": {},
     "output_type": "execute_result"
    }
   ],
   "source": [
    "(2+4)*(2+2)"
   ]
  },
  {
   "cell_type": "markdown",
   "id": "13e3035d",
   "metadata": {},
   "source": [
    "# Variable Assignment"
   ]
  },
  {
   "cell_type": "code",
   "execution_count": 10,
   "id": "e3999e5a",
   "metadata": {},
   "outputs": [],
   "source": [
    "x=5\n",
    "y=3"
   ]
  },
  {
   "cell_type": "code",
   "execution_count": 11,
   "id": "13889689",
   "metadata": {},
   "outputs": [],
   "source": [
    "z=x+y"
   ]
  },
  {
   "cell_type": "code",
   "execution_count": 12,
   "id": "07e0450f",
   "metadata": {},
   "outputs": [
    {
     "data": {
      "text/plain": [
       "8"
      ]
     },
     "execution_count": 12,
     "metadata": {},
     "output_type": "execute_result"
    }
   ],
   "source": [
    "z"
   ]
  },
  {
   "cell_type": "markdown",
   "id": "426e39a1",
   "metadata": {},
   "source": [
    "# Strings"
   ]
  },
  {
   "cell_type": "code",
   "execution_count": 14,
   "id": "ca5228c5",
   "metadata": {},
   "outputs": [
    {
     "data": {
      "text/plain": [
       "'use of single quotes'"
      ]
     },
     "execution_count": 14,
     "metadata": {},
     "output_type": "execute_result"
    }
   ],
   "source": [
    "'use of single quotes'"
   ]
  },
  {
   "cell_type": "code",
   "execution_count": 16,
   "id": "e79f0bd5",
   "metadata": {},
   "outputs": [
    {
     "data": {
      "text/plain": [
       "'use of double quotes'"
      ]
     },
     "execution_count": 16,
     "metadata": {},
     "output_type": "execute_result"
    }
   ],
   "source": [
    "\"use of double quotes\""
   ]
  },
  {
   "cell_type": "code",
   "execution_count": 17,
   "id": "464cc84c",
   "metadata": {},
   "outputs": [
    {
     "data": {
      "text/plain": [
       "\" wrap lot's of other quotes\""
      ]
     },
     "execution_count": 17,
     "metadata": {},
     "output_type": "execute_result"
    }
   ],
   "source": [
    "\" wrap lot's of other quotes\""
   ]
  },
  {
   "cell_type": "markdown",
   "id": "07aa15a9",
   "metadata": {},
   "source": [
    "# The Python print() function "
   ]
  },
  {
   "cell_type": "code",
   "execution_count": 18,
   "id": "6c62877b",
   "metadata": {},
   "outputs": [],
   "source": [
    "x='hello'"
   ]
  },
  {
   "cell_type": "code",
   "execution_count": 19,
   "id": "97ba50f2",
   "metadata": {},
   "outputs": [
    {
     "data": {
      "text/plain": [
       "'hello'"
      ]
     },
     "execution_count": 19,
     "metadata": {},
     "output_type": "execute_result"
    }
   ],
   "source": [
    "x"
   ]
  },
  {
   "cell_type": "code",
   "execution_count": 20,
   "id": "c707d0c5",
   "metadata": {},
   "outputs": [
    {
     "name": "stdout",
     "output_type": "stream",
     "text": [
      "hello\n"
     ]
    }
   ],
   "source": [
    "print(x)"
   ]
  },
  {
   "cell_type": "code",
   "execution_count": 23,
   "id": "f263eb71",
   "metadata": {},
   "outputs": [],
   "source": [
    "num = 1\n",
    "name= 'Lima'"
   ]
  },
  {
   "cell_type": "code",
   "execution_count": 26,
   "id": "2f7d2dcf",
   "metadata": {},
   "outputs": [
    {
     "name": "stdout",
     "output_type": "stream",
     "text": [
      "my name is: Lima, and my number is: 1\n"
     ]
    }
   ],
   "source": [
    "print('my name is: {one}, and my number is: {two}'.format(one=name,two=num))"
   ]
  },
  {
   "cell_type": "code",
   "execution_count": 27,
   "id": "2e71a500",
   "metadata": {},
   "outputs": [
    {
     "name": "stdout",
     "output_type": "stream",
     "text": [
      "my name is: Lima and my number is:1\n"
     ]
    }
   ],
   "source": [
    "print('my name is: {} and my number is:{}'.format(name,num))"
   ]
  },
  {
   "cell_type": "markdown",
   "id": "04643460",
   "metadata": {},
   "source": [
    "# Lists"
   ]
  },
  {
   "cell_type": "code",
   "execution_count": 2,
   "id": "12ca2d12",
   "metadata": {},
   "outputs": [
    {
     "data": {
      "text/plain": [
       "[3, 4, 5]"
      ]
     },
     "execution_count": 2,
     "metadata": {},
     "output_type": "execute_result"
    }
   ],
   "source": [
    "[3,4,5]"
   ]
  },
  {
   "cell_type": "code",
   "execution_count": 3,
   "id": "b48fac16",
   "metadata": {},
   "outputs": [
    {
     "data": {
      "text/plain": [
       "['hello', 1, [4, 5]]"
      ]
     },
     "execution_count": 3,
     "metadata": {},
     "output_type": "execute_result"
    }
   ],
   "source": [
    "['hello', 1, [4,5]]"
   ]
  },
  {
   "cell_type": "code",
   "execution_count": 5,
   "id": "70aa9f7b",
   "metadata": {},
   "outputs": [],
   "source": [
    "my_list = ['apple', 'banana', 'orange']"
   ]
  },
  {
   "cell_type": "code",
   "execution_count": 6,
   "id": "eecc3d50",
   "metadata": {},
   "outputs": [],
   "source": [
    "my_list.append('mango')"
   ]
  },
  {
   "cell_type": "code",
   "execution_count": 7,
   "id": "94910474",
   "metadata": {},
   "outputs": [
    {
     "data": {
      "text/plain": [
       "['apple', 'banana', 'orange', 'mango']"
      ]
     },
     "execution_count": 7,
     "metadata": {},
     "output_type": "execute_result"
    }
   ],
   "source": [
    "my_list"
   ]
  },
  {
   "cell_type": "code",
   "execution_count": 8,
   "id": "f85b21e2",
   "metadata": {},
   "outputs": [
    {
     "data": {
      "text/plain": [
       "'apple'"
      ]
     },
     "execution_count": 8,
     "metadata": {},
     "output_type": "execute_result"
    }
   ],
   "source": [
    "my_list[0]"
   ]
  },
  {
   "cell_type": "code",
   "execution_count": 9,
   "id": "2c31254e",
   "metadata": {},
   "outputs": [
    {
     "data": {
      "text/plain": [
       "'banana'"
      ]
     },
     "execution_count": 9,
     "metadata": {},
     "output_type": "execute_result"
    }
   ],
   "source": [
    "my_list[1]"
   ]
  },
  {
   "cell_type": "code",
   "execution_count": 10,
   "id": "efdc6dc5",
   "metadata": {},
   "outputs": [
    {
     "data": {
      "text/plain": [
       "['banana', 'orange', 'mango']"
      ]
     },
     "execution_count": 10,
     "metadata": {},
     "output_type": "execute_result"
    }
   ],
   "source": [
    "my_list[1:]"
   ]
  },
  {
   "cell_type": "code",
   "execution_count": 11,
   "id": "6f99e45a",
   "metadata": {},
   "outputs": [
    {
     "data": {
      "text/plain": [
       "['apple']"
      ]
     },
     "execution_count": 11,
     "metadata": {},
     "output_type": "execute_result"
    }
   ],
   "source": [
    "my_list[:1]"
   ]
  },
  {
   "cell_type": "code",
   "execution_count": 12,
   "id": "b1aa5cde",
   "metadata": {},
   "outputs": [],
   "source": [
    "my_list[0] = 'SOMETHING NEW'"
   ]
  },
  {
   "cell_type": "code",
   "execution_count": 13,
   "id": "4de7a08c",
   "metadata": {},
   "outputs": [
    {
     "data": {
      "text/plain": [
       "['SOMETHING NEW', 'banana', 'orange', 'mango']"
      ]
     },
     "execution_count": 13,
     "metadata": {},
     "output_type": "execute_result"
    }
   ],
   "source": [
    "my_list"
   ]
  },
  {
   "cell_type": "code",
   "execution_count": 15,
   "id": "b3a50139",
   "metadata": {},
   "outputs": [],
   "source": [
    "nest = [1,2,3,['a','b',['targeted place']]]"
   ]
  },
  {
   "cell_type": "code",
   "execution_count": 16,
   "id": "240cec7e",
   "metadata": {},
   "outputs": [
    {
     "data": {
      "text/plain": [
       "['a', 'b', ['targeted place']]"
      ]
     },
     "execution_count": 16,
     "metadata": {},
     "output_type": "execute_result"
    }
   ],
   "source": [
    "nest[3]"
   ]
  },
  {
   "cell_type": "code",
   "execution_count": 18,
   "id": "25dbb7c2",
   "metadata": {},
   "outputs": [
    {
     "data": {
      "text/plain": [
       "['targeted place']"
      ]
     },
     "execution_count": 18,
     "metadata": {},
     "output_type": "execute_result"
    }
   ],
   "source": [
    "nest[3][2]"
   ]
  },
  {
   "cell_type": "code",
   "execution_count": 19,
   "id": "c2ddad9b",
   "metadata": {},
   "outputs": [
    {
     "data": {
      "text/plain": [
       "'targeted place'"
      ]
     },
     "execution_count": 19,
     "metadata": {},
     "output_type": "execute_result"
    }
   ],
   "source": [
    "nest[3][2][0]"
   ]
  },
  {
   "cell_type": "markdown",
   "id": "ff90f3da",
   "metadata": {},
   "source": [
    "# Dictionaries in Python"
   ]
  },
  {
   "cell_type": "code",
   "execution_count": 20,
   "id": "5b8ffdb6",
   "metadata": {},
   "outputs": [],
   "source": [
    "d = {'key1': 'item1','key2': 'item2' }"
   ]
  },
  {
   "cell_type": "code",
   "execution_count": 21,
   "id": "f409dec4",
   "metadata": {},
   "outputs": [
    {
     "data": {
      "text/plain": [
       "{'key1': 'item1', 'key2': 'item2'}"
      ]
     },
     "execution_count": 21,
     "metadata": {},
     "output_type": "execute_result"
    }
   ],
   "source": [
    "d"
   ]
  },
  {
   "cell_type": "code",
   "execution_count": 24,
   "id": "3643e192",
   "metadata": {},
   "outputs": [
    {
     "data": {
      "text/plain": [
       "'item2'"
      ]
     },
     "execution_count": 24,
     "metadata": {},
     "output_type": "execute_result"
    }
   ],
   "source": [
    "d['key2']"
   ]
  },
  {
   "cell_type": "markdown",
   "id": "58e6038b",
   "metadata": {},
   "source": [
    "# Booleans"
   ]
  },
  {
   "cell_type": "code",
   "execution_count": 26,
   "id": "918dd210",
   "metadata": {},
   "outputs": [
    {
     "data": {
      "text/plain": [
       "True"
      ]
     },
     "execution_count": 26,
     "metadata": {},
     "output_type": "execute_result"
    }
   ],
   "source": [
    "True"
   ]
  },
  {
   "cell_type": "code",
   "execution_count": 27,
   "id": "d798a0b8",
   "metadata": {},
   "outputs": [
    {
     "data": {
      "text/plain": [
       "False"
      ]
     },
     "execution_count": 27,
     "metadata": {},
     "output_type": "execute_result"
    }
   ],
   "source": [
    "False"
   ]
  },
  {
   "cell_type": "markdown",
   "id": "abb055c5",
   "metadata": {},
   "source": [
    "# Tuples in Python"
   ]
  },
  {
   "cell_type": "code",
   "execution_count": 28,
   "id": "ccb8a4a4",
   "metadata": {},
   "outputs": [],
   "source": [
    "t = (1, 2, 3)"
   ]
  },
  {
   "cell_type": "code",
   "execution_count": 29,
   "id": "2320d2e0",
   "metadata": {},
   "outputs": [
    {
     "data": {
      "text/plain": [
       "1"
      ]
     },
     "execution_count": 29,
     "metadata": {},
     "output_type": "execute_result"
    }
   ],
   "source": [
    "t[0]"
   ]
  },
  {
   "cell_type": "code",
   "execution_count": 30,
   "id": "270cba82",
   "metadata": {},
   "outputs": [
    {
     "ename": "TypeError",
     "evalue": "'tuple' object does not support item assignment",
     "output_type": "error",
     "traceback": [
      "\u001b[1;31m---------------------------------------------------------------------------\u001b[0m",
      "\u001b[1;31mTypeError\u001b[0m                                 Traceback (most recent call last)",
      "\u001b[1;32m~\\AppData\\Local\\Temp\\ipykernel_5796\\2140988817.py\u001b[0m in \u001b[0;36m<module>\u001b[1;34m\u001b[0m\n\u001b[1;32m----> 1\u001b[1;33m \u001b[0mt\u001b[0m\u001b[1;33m[\u001b[0m\u001b[1;36m0\u001b[0m\u001b[1;33m]\u001b[0m \u001b[1;33m=\u001b[0m \u001b[1;34m'NEW'\u001b[0m\u001b[1;33m\u001b[0m\u001b[1;33m\u001b[0m\u001b[0m\n\u001b[0m",
      "\u001b[1;31mTypeError\u001b[0m: 'tuple' object does not support item assignment"
     ]
    }
   ],
   "source": [
    "t[0] = 'NEW'"
   ]
  },
  {
   "cell_type": "markdown",
   "id": "ac44ae32",
   "metadata": {},
   "source": [
    "# Sets in Python "
   ]
  },
  {
   "cell_type": "code",
   "execution_count": 31,
   "id": "8e7a4088",
   "metadata": {},
   "outputs": [
    {
     "data": {
      "text/plain": [
       "{1, 2, 3}"
      ]
     },
     "execution_count": 31,
     "metadata": {},
     "output_type": "execute_result"
    }
   ],
   "source": [
    "{1,2,3}"
   ]
  },
  {
   "cell_type": "code",
   "execution_count": 32,
   "id": "848aa2b8",
   "metadata": {},
   "outputs": [
    {
     "data": {
      "text/plain": [
       "{1, 2, 3}"
      ]
     },
     "execution_count": 32,
     "metadata": {},
     "output_type": "execute_result"
    }
   ],
   "source": [
    "{1,2,3,1,2,1,2,3,3,3,3,2,2,2,1,1,2}"
   ]
  },
  {
   "cell_type": "markdown",
   "id": "37b55965",
   "metadata": {},
   "source": [
    "# Python Comparison Operators"
   ]
  },
  {
   "cell_type": "code",
   "execution_count": 33,
   "id": "9558dccc",
   "metadata": {},
   "outputs": [
    {
     "data": {
      "text/plain": [
       "True"
      ]
     },
     "execution_count": 33,
     "metadata": {},
     "output_type": "execute_result"
    }
   ],
   "source": [
    "44>33"
   ]
  },
  {
   "cell_type": "code",
   "execution_count": 34,
   "id": "557e8d65",
   "metadata": {},
   "outputs": [
    {
     "data": {
      "text/plain": [
       "False"
      ]
     },
     "execution_count": 34,
     "metadata": {},
     "output_type": "execute_result"
    }
   ],
   "source": [
    "44<33"
   ]
  },
  {
   "cell_type": "code",
   "execution_count": 35,
   "id": "53a93d71",
   "metadata": {},
   "outputs": [
    {
     "data": {
      "text/plain": [
       "True"
      ]
     },
     "execution_count": 35,
     "metadata": {},
     "output_type": "execute_result"
    }
   ],
   "source": [
    "5>=5"
   ]
  },
  {
   "cell_type": "code",
   "execution_count": 36,
   "id": "59ccf0c2",
   "metadata": {},
   "outputs": [
    {
     "data": {
      "text/plain": [
       "True"
      ]
     },
     "execution_count": 36,
     "metadata": {},
     "output_type": "execute_result"
    }
   ],
   "source": [
    "3 <= 4"
   ]
  },
  {
   "cell_type": "code",
   "execution_count": 37,
   "id": "ea6fc956",
   "metadata": {},
   "outputs": [
    {
     "data": {
      "text/plain": [
       "True"
      ]
     },
     "execution_count": 37,
     "metadata": {},
     "output_type": "execute_result"
    }
   ],
   "source": [
    "1 == 1"
   ]
  },
  {
   "cell_type": "code",
   "execution_count": 38,
   "id": "98bd6237",
   "metadata": {},
   "outputs": [
    {
     "data": {
      "text/plain": [
       "False"
      ]
     },
     "execution_count": 38,
     "metadata": {},
     "output_type": "execute_result"
    }
   ],
   "source": [
    "'hi' == 'bye'"
   ]
  },
  {
   "cell_type": "markdown",
   "id": "e9156ad0",
   "metadata": {},
   "source": [
    "# Logic Operators"
   ]
  },
  {
   "cell_type": "code",
   "execution_count": 40,
   "id": "806f7244",
   "metadata": {},
   "outputs": [
    {
     "data": {
      "text/plain": [
       "False"
      ]
     },
     "execution_count": 40,
     "metadata": {},
     "output_type": "execute_result"
    }
   ],
   "source": [
    "3 > 4 and 2 < 3"
   ]
  },
  {
   "cell_type": "code",
   "execution_count": 41,
   "id": "06a50542",
   "metadata": {},
   "outputs": [
    {
     "data": {
      "text/plain": [
       "True"
      ]
     },
     "execution_count": 41,
     "metadata": {},
     "output_type": "execute_result"
    }
   ],
   "source": [
    "(1 > 2) or (2 < 3)"
   ]
  },
  {
   "cell_type": "code",
   "execution_count": 42,
   "id": "fb44d7a5",
   "metadata": {},
   "outputs": [
    {
     "data": {
      "text/plain": [
       "True"
      ]
     },
     "execution_count": 42,
     "metadata": {},
     "output_type": "execute_result"
    }
   ],
   "source": [
    "(1 == 2) or (2 == 3) or (4 == 4)"
   ]
  },
  {
   "cell_type": "markdown",
   "id": "6d2dc705",
   "metadata": {},
   "source": [
    "# If, Elif, and Else Statements in Python"
   ]
  },
  {
   "cell_type": "code",
   "execution_count": 43,
   "id": "670b4742",
   "metadata": {},
   "outputs": [
    {
     "name": "stdout",
     "output_type": "stream",
     "text": [
      "yep!\n"
     ]
    }
   ],
   "source": [
    "if 4 > 2 :\n",
    "    print('yep!')"
   ]
  },
  {
   "cell_type": "code",
   "execution_count": 48,
   "id": "9fd406d9",
   "metadata": {},
   "outputs": [
    {
     "name": "stdout",
     "output_type": "stream",
     "text": [
      "first\n"
     ]
    }
   ],
   "source": [
    "if 4 > 2:\n",
    "    print('first')\n",
    "else:\n",
    "    print('last')"
   ]
  },
  {
   "cell_type": "code",
   "execution_count": 49,
   "id": "5f968483",
   "metadata": {},
   "outputs": [
    {
     "name": "stdout",
     "output_type": "stream",
     "text": [
      "last\n"
     ]
    }
   ],
   "source": [
    "if 4 < 2:\n",
    "    print('first')\n",
    "else:\n",
    "    print('last')"
   ]
  },
  {
   "cell_type": "markdown",
   "id": "6e9501e9",
   "metadata": {},
   "source": [
    "# for Loops\n",
    "\n",
    "\n"
   ]
  },
  {
   "cell_type": "code",
   "execution_count": 50,
   "id": "9883e6d2",
   "metadata": {},
   "outputs": [],
   "source": [
    "seq = [1,2,3,4,5]"
   ]
  },
  {
   "cell_type": "code",
   "execution_count": 54,
   "id": "9ab95d8b",
   "metadata": {},
   "outputs": [
    {
     "name": "stdout",
     "output_type": "stream",
     "text": [
      "1\n",
      "2\n",
      "3\n",
      "4\n",
      "5\n"
     ]
    }
   ],
   "source": [
    "for item in seq:\n",
    "    print(item)"
   ]
  },
  {
   "cell_type": "code",
   "execution_count": 55,
   "id": "1a3770d2",
   "metadata": {},
   "outputs": [
    {
     "name": "stdout",
     "output_type": "stream",
     "text": [
      "Hi\n",
      "Hi\n",
      "Hi\n",
      "Hi\n",
      "Hi\n"
     ]
    }
   ],
   "source": [
    "for item in seq:\n",
    "    print('Hi')"
   ]
  },
  {
   "cell_type": "markdown",
   "id": "d91c65ea",
   "metadata": {},
   "source": [
    "# while Loops in Python"
   ]
  },
  {
   "cell_type": "code",
   "execution_count": 59,
   "id": "6fb18533",
   "metadata": {},
   "outputs": [
    {
     "name": "stdout",
     "output_type": "stream",
     "text": [
      "i is: 1\n",
      "i is: 2\n",
      "i is: 3\n",
      "i is: 4\n",
      "i is: 5\n",
      "i is: 6\n",
      "i is: 7\n",
      "i is: 8\n",
      "i is: 9\n"
     ]
    }
   ],
   "source": [
    "i = 1\n",
    "while i < 10:\n",
    "    print('i is: {}'.format(i))\n",
    "    i = i+1"
   ]
  },
  {
   "cell_type": "code",
   "execution_count": 61,
   "id": "6c846565",
   "metadata": {},
   "outputs": [
    {
     "data": {
      "text/plain": [
       "range(0, 5)"
      ]
     },
     "execution_count": 61,
     "metadata": {},
     "output_type": "execute_result"
    }
   ],
   "source": [
    "range(5)"
   ]
  },
  {
   "cell_type": "code",
   "execution_count": 63,
   "id": "d150c535",
   "metadata": {},
   "outputs": [
    {
     "name": "stdout",
     "output_type": "stream",
     "text": [
      "0\n",
      "1\n",
      "2\n",
      "3\n",
      "4\n"
     ]
    }
   ],
   "source": [
    "for i in range(5):\n",
    "    print(i)"
   ]
  },
  {
   "cell_type": "code",
   "execution_count": 64,
   "id": "3e895ad4",
   "metadata": {},
   "outputs": [
    {
     "data": {
      "text/plain": [
       "[0, 1, 2, 3, 4]"
      ]
     },
     "execution_count": 64,
     "metadata": {},
     "output_type": "execute_result"
    }
   ],
   "source": [
    "list(range(5))"
   ]
  },
  {
   "cell_type": "markdown",
   "id": "f70a3760",
   "metadata": {},
   "source": [
    "# list comprehension to create a new list based on the values of an existing list in Python"
   ]
  },
  {
   "cell_type": "code",
   "execution_count": 65,
   "id": "eb558cc7",
   "metadata": {},
   "outputs": [],
   "source": [
    "x = [1,2,3,4]"
   ]
  },
  {
   "cell_type": "code",
   "execution_count": 67,
   "id": "dd0fa62b",
   "metadata": {},
   "outputs": [
    {
     "name": "stdout",
     "output_type": "stream",
     "text": [
      "[1, 4, 9, 16]\n"
     ]
    }
   ],
   "source": [
    "out =[]\n",
    "for item in x:\n",
    "    out.append(item**2)\n",
    "print(out)"
   ]
  },
  {
   "cell_type": "code",
   "execution_count": 68,
   "id": "e306f8e9",
   "metadata": {},
   "outputs": [
    {
     "data": {
      "text/plain": [
       "[1, 4, 9, 16]"
      ]
     },
     "execution_count": 68,
     "metadata": {},
     "output_type": "execute_result"
    }
   ],
   "source": [
    "[item**2 for item in x]"
   ]
  },
  {
   "cell_type": "code",
   "execution_count": 69,
   "id": "9645989f",
   "metadata": {},
   "outputs": [],
   "source": [
    "def my_func(param1='default'):\n",
    "    \"\"\"\n",
    "    Docstring goes here.\n",
    "    \"\"\"\n",
    "    print(param1)"
   ]
  },
  {
   "cell_type": "code",
   "execution_count": 70,
   "id": "b7501cd6",
   "metadata": {},
   "outputs": [
    {
     "data": {
      "text/plain": [
       "<function __main__.my_func(param1='default')>"
      ]
     },
     "execution_count": 70,
     "metadata": {},
     "output_type": "execute_result"
    }
   ],
   "source": [
    "my_func\n"
   ]
  },
  {
   "cell_type": "code",
   "execution_count": 72,
   "id": "c70ed467",
   "metadata": {},
   "outputs": [
    {
     "name": "stdout",
     "output_type": "stream",
     "text": [
      "default\n"
     ]
    }
   ],
   "source": [
    "my_func()"
   ]
  },
  {
   "cell_type": "code",
   "execution_count": 73,
   "id": "88353d35",
   "metadata": {},
   "outputs": [
    {
     "name": "stdout",
     "output_type": "stream",
     "text": [
      "new param\n"
     ]
    }
   ],
   "source": [
    "my_func('new param')"
   ]
  },
  {
   "cell_type": "code",
   "execution_count": 74,
   "id": "dcf5a4ee",
   "metadata": {},
   "outputs": [
    {
     "name": "stdout",
     "output_type": "stream",
     "text": [
      "new param\n"
     ]
    }
   ],
   "source": [
    "my_func(param1='new param')\n"
   ]
  },
  {
   "cell_type": "code",
   "execution_count": 75,
   "id": "eb6150ae",
   "metadata": {},
   "outputs": [],
   "source": [
    "def square(x):\n",
    "    return x**2\n"
   ]
  },
  {
   "cell_type": "code",
   "execution_count": 76,
   "id": "743ca446",
   "metadata": {},
   "outputs": [],
   "source": [
    "out = square(2)"
   ]
  },
  {
   "cell_type": "code",
   "execution_count": 77,
   "id": "436ef15e",
   "metadata": {},
   "outputs": [
    {
     "name": "stdout",
     "output_type": "stream",
     "text": [
      "4\n"
     ]
    }
   ],
   "source": [
    "print(out)"
   ]
  },
  {
   "cell_type": "markdown",
   "id": "c6143924",
   "metadata": {},
   "source": [
    "# lambda expressions"
   ]
  },
  {
   "cell_type": "code",
   "execution_count": 78,
   "id": "7df5c53c",
   "metadata": {},
   "outputs": [],
   "source": [
    "def times2(var):\n",
    "    return var*2"
   ]
  },
  {
   "cell_type": "code",
   "execution_count": 79,
   "id": "43a358dd",
   "metadata": {},
   "outputs": [
    {
     "data": {
      "text/plain": [
       "4"
      ]
     },
     "execution_count": 79,
     "metadata": {},
     "output_type": "execute_result"
    }
   ],
   "source": [
    "times2(2)"
   ]
  },
  {
   "cell_type": "code",
   "execution_count": 80,
   "id": "dc59e7c6",
   "metadata": {},
   "outputs": [
    {
     "data": {
      "text/plain": [
       "<function __main__.<lambda>(var)>"
      ]
     },
     "execution_count": 80,
     "metadata": {},
     "output_type": "execute_result"
    }
   ],
   "source": [
    "lambda var: var*2"
   ]
  },
  {
   "cell_type": "markdown",
   "id": "bf0b8b59",
   "metadata": {},
   "source": [
    "# map and filter"
   ]
  },
  {
   "cell_type": "code",
   "execution_count": 81,
   "id": "e3551dfd",
   "metadata": {},
   "outputs": [],
   "source": [
    "seq = [1,2,3,4,5]"
   ]
  },
  {
   "cell_type": "code",
   "execution_count": 82,
   "id": "d788424a",
   "metadata": {},
   "outputs": [
    {
     "data": {
      "text/plain": [
       "<map at 0x193ad314070>"
      ]
     },
     "execution_count": 82,
     "metadata": {},
     "output_type": "execute_result"
    }
   ],
   "source": [
    "map(times2,seq)"
   ]
  },
  {
   "cell_type": "code",
   "execution_count": 84,
   "id": "d08463e8",
   "metadata": {},
   "outputs": [
    {
     "data": {
      "text/plain": [
       "[2, 4, 6, 8, 10]"
      ]
     },
     "execution_count": 84,
     "metadata": {},
     "output_type": "execute_result"
    }
   ],
   "source": [
    "list(map(times2,seq))"
   ]
  },
  {
   "cell_type": "code",
   "execution_count": 85,
   "id": "727c238d",
   "metadata": {},
   "outputs": [
    {
     "data": {
      "text/plain": [
       "[2, 4, 6, 8, 10]"
      ]
     },
     "execution_count": 85,
     "metadata": {},
     "output_type": "execute_result"
    }
   ],
   "source": [
    "list(map(lambda var: var*2,seq))"
   ]
  },
  {
   "cell_type": "code",
   "execution_count": 86,
   "id": "971725ef",
   "metadata": {},
   "outputs": [
    {
     "data": {
      "text/plain": [
       "<filter at 0x193ad439100>"
      ]
     },
     "execution_count": 86,
     "metadata": {},
     "output_type": "execute_result"
    }
   ],
   "source": [
    "filter(lambda item: item%2 == 0,seq)"
   ]
  },
  {
   "cell_type": "code",
   "execution_count": 87,
   "id": "00014672",
   "metadata": {},
   "outputs": [
    {
     "data": {
      "text/plain": [
       "[2, 4]"
      ]
     },
     "execution_count": 87,
     "metadata": {},
     "output_type": "execute_result"
    }
   ],
   "source": [
    "list(filter(lambda item: item%2 == 0,seq))"
   ]
  },
  {
   "cell_type": "markdown",
   "id": "b94fdbff",
   "metadata": {},
   "source": [
    "# methods"
   ]
  },
  {
   "cell_type": "code",
   "execution_count": 88,
   "id": "a353cce6",
   "metadata": {},
   "outputs": [],
   "source": [
    "sentense = 'hello my name is lima'"
   ]
  },
  {
   "cell_type": "code",
   "execution_count": 90,
   "id": "92920fe6",
   "metadata": {},
   "outputs": [
    {
     "data": {
      "text/plain": [
       "'HELLO MY NAME IS LIMA'"
      ]
     },
     "execution_count": 90,
     "metadata": {},
     "output_type": "execute_result"
    }
   ],
   "source": [
    "sentense.upper()"
   ]
  },
  {
   "cell_type": "code",
   "execution_count": 92,
   "id": "51f17fd5",
   "metadata": {},
   "outputs": [
    {
     "data": {
      "text/plain": [
       "'hello my name is lima'"
      ]
     },
     "execution_count": 92,
     "metadata": {},
     "output_type": "execute_result"
    }
   ],
   "source": [
    "sentense.lower()"
   ]
  },
  {
   "cell_type": "code",
   "execution_count": 93,
   "id": "4f0c38a8",
   "metadata": {},
   "outputs": [
    {
     "data": {
      "text/plain": [
       "['hello', 'my', 'name', 'is', 'lima']"
      ]
     },
     "execution_count": 93,
     "metadata": {},
     "output_type": "execute_result"
    }
   ],
   "source": [
    "sentense.split()"
   ]
  },
  {
   "cell_type": "code",
   "execution_count": 94,
   "id": "bfb19970",
   "metadata": {},
   "outputs": [],
   "source": [
    "tweet = 'Go Sports! #Sports'"
   ]
  },
  {
   "cell_type": "code",
   "execution_count": 95,
   "id": "b3ddfe1d",
   "metadata": {},
   "outputs": [
    {
     "data": {
      "text/plain": [
       "['Go Sports! ', 'Sports']"
      ]
     },
     "execution_count": 95,
     "metadata": {},
     "output_type": "execute_result"
    }
   ],
   "source": [
    "tweet.split('#')"
   ]
  },
  {
   "cell_type": "code",
   "execution_count": 98,
   "id": "d5d6898c",
   "metadata": {},
   "outputs": [
    {
     "data": {
      "text/plain": [
       "'Sports'"
      ]
     },
     "execution_count": 98,
     "metadata": {},
     "output_type": "execute_result"
    }
   ],
   "source": [
    "tweet.split('#')[1]"
   ]
  },
  {
   "cell_type": "code",
   "execution_count": 99,
   "id": "dca35109",
   "metadata": {},
   "outputs": [
    {
     "data": {
      "text/plain": [
       "{'key1': 'item1', 'key2': 'item2'}"
      ]
     },
     "execution_count": 99,
     "metadata": {},
     "output_type": "execute_result"
    }
   ],
   "source": [
    "d"
   ]
  },
  {
   "cell_type": "code",
   "execution_count": 100,
   "id": "497f5ed0",
   "metadata": {},
   "outputs": [
    {
     "data": {
      "text/plain": [
       "dict_items([('key1', 'item1'), ('key2', 'item2')])"
      ]
     },
     "execution_count": 100,
     "metadata": {},
     "output_type": "execute_result"
    }
   ],
   "source": [
    "d.items()"
   ]
  },
  {
   "cell_type": "code",
   "execution_count": 101,
   "id": "dc9ccbdf",
   "metadata": {},
   "outputs": [
    {
     "data": {
      "text/plain": [
       "dict_keys(['key1', 'key2'])"
      ]
     },
     "execution_count": 101,
     "metadata": {},
     "output_type": "execute_result"
    }
   ],
   "source": [
    "d.keys()"
   ]
  },
  {
   "cell_type": "code",
   "execution_count": 102,
   "id": "554e85a4",
   "metadata": {},
   "outputs": [],
   "source": [
    "lst = [1,2,3]"
   ]
  },
  {
   "cell_type": "code",
   "execution_count": 103,
   "id": "7aa34d58",
   "metadata": {},
   "outputs": [
    {
     "data": {
      "text/plain": [
       "3"
      ]
     },
     "execution_count": 103,
     "metadata": {},
     "output_type": "execute_result"
    }
   ],
   "source": [
    "lst.pop()"
   ]
  },
  {
   "cell_type": "code",
   "execution_count": 106,
   "id": "ebe7170d",
   "metadata": {},
   "outputs": [
    {
     "data": {
      "text/plain": [
       "[1, 2]"
      ]
     },
     "execution_count": 106,
     "metadata": {},
     "output_type": "execute_result"
    }
   ],
   "source": [
    "lst"
   ]
  },
  {
   "cell_type": "code",
   "execution_count": 104,
   "id": "0a687062",
   "metadata": {},
   "outputs": [
    {
     "data": {
      "text/plain": [
       "True"
      ]
     },
     "execution_count": 104,
     "metadata": {},
     "output_type": "execute_result"
    }
   ],
   "source": [
    "'apple' in ['apple', 'banana', 'orange', 'mango']\n"
   ]
  },
  {
   "cell_type": "code",
   "execution_count": 105,
   "id": "a1fa93d8",
   "metadata": {},
   "outputs": [
    {
     "data": {
      "text/plain": [
       "False"
      ]
     },
     "execution_count": 105,
     "metadata": {},
     "output_type": "execute_result"
    }
   ],
   "source": [
    "'apple' in [1,2,3]"
   ]
  },
  {
   "cell_type": "markdown",
   "id": "23a5fc7e",
   "metadata": {},
   "source": [
    "# Exercises"
   ]
  },
  {
   "cell_type": "markdown",
   "id": "1b5edd06",
   "metadata": {},
   "source": [
    "### Q. What is 7 to the power of 4?"
   ]
  },
  {
   "cell_type": "code",
   "execution_count": 109,
   "id": "b9f10106",
   "metadata": {},
   "outputs": [
    {
     "data": {
      "text/plain": [
       "2401"
      ]
     },
     "execution_count": 109,
     "metadata": {},
     "output_type": "execute_result"
    }
   ],
   "source": [
    "7**4"
   ]
  },
  {
   "cell_type": "markdown",
   "id": "9f429d42",
   "metadata": {},
   "source": [
    "#### "
   ]
  },
  {
   "cell_type": "markdown",
   "id": "bd45126e",
   "metadata": {},
   "source": [
    "# Q. ** Split this string:**\n",
    "\n",
    "s = \"Hi there Sam!\"\n",
    "*into a list. *"
   ]
  },
  {
   "cell_type": "code",
   "execution_count": 111,
   "id": "6fcc23c5",
   "metadata": {},
   "outputs": [],
   "source": [
    "s = \"Hi there Sam!\""
   ]
  },
  {
   "cell_type": "code",
   "execution_count": 115,
   "id": "ae25b005",
   "metadata": {},
   "outputs": [
    {
     "data": {
      "text/plain": [
       "['Hi', 'there', 'Sam!']"
      ]
     },
     "execution_count": 115,
     "metadata": {},
     "output_type": "execute_result"
    }
   ],
   "source": [
    "s.split()\n"
   ]
  },
  {
   "cell_type": "markdown",
   "id": "3a834d15",
   "metadata": {},
   "source": [
    "# Use .format() to print the following string: \n",
    "\n",
    "The diameter of Earth is 12742 kilometers.\n",
    "\n",
    "planet = \"Earth\"\n",
    "diameter = 12742\n",
    " \n",
    "\n",
    "The diameter of Earth is 12742 kilometers."
   ]
  },
  {
   "cell_type": "code",
   "execution_count": 6,
   "id": "83c34f23",
   "metadata": {},
   "outputs": [],
   "source": [
    "planet = \"Earth\" \n",
    "diameter = 12742"
   ]
  },
  {
   "cell_type": "code",
   "execution_count": 11,
   "id": "3f4e018c",
   "metadata": {},
   "outputs": [
    {
     "name": "stdout",
     "output_type": "stream",
     "text": [
      "The diameter of Earth is 12742 kilometers.\n"
     ]
    }
   ],
   "source": [
    "print('The diameter of {} is {} kilometers.'.format(planet,diameter))"
   ]
  },
  {
   "cell_type": "markdown",
   "id": "1ef17fad",
   "metadata": {},
   "source": [
    "### ** Given this nested list, use indexing to grab the word \"hello\" **"
   ]
  },
  {
   "cell_type": "code",
   "execution_count": 12,
   "id": "b74c21f9",
   "metadata": {},
   "outputs": [],
   "source": [
    "lst = [1,2,[3,4],[5,[100,200,['hello']],23,11],1,7]"
   ]
  },
  {
   "cell_type": "code",
   "execution_count": 13,
   "id": "b9c18716",
   "metadata": {},
   "outputs": [
    {
     "data": {
      "text/plain": [
       "[5, [100, 200, ['hello']], 23, 11]"
      ]
     },
     "execution_count": 13,
     "metadata": {},
     "output_type": "execute_result"
    }
   ],
   "source": [
    "lst[3]"
   ]
  },
  {
   "cell_type": "code",
   "execution_count": 16,
   "id": "8b69bd77",
   "metadata": {},
   "outputs": [
    {
     "data": {
      "text/plain": [
       "[100, 200, ['hello']]"
      ]
     },
     "execution_count": 16,
     "metadata": {},
     "output_type": "execute_result"
    }
   ],
   "source": [
    "lst[3][1]"
   ]
  },
  {
   "cell_type": "code",
   "execution_count": 17,
   "id": "dbd826d0",
   "metadata": {},
   "outputs": [
    {
     "data": {
      "text/plain": [
       "['hello']"
      ]
     },
     "execution_count": 17,
     "metadata": {},
     "output_type": "execute_result"
    }
   ],
   "source": [
    "lst[3][1][2]"
   ]
  },
  {
   "cell_type": "code",
   "execution_count": 18,
   "id": "b75ef11b",
   "metadata": {},
   "outputs": [
    {
     "data": {
      "text/plain": [
       "'hello'"
      ]
     },
     "execution_count": 18,
     "metadata": {},
     "output_type": "execute_result"
    }
   ],
   "source": [
    "lst[3][1][2][0]"
   ]
  },
  {
   "cell_type": "markdown",
   "id": "69c28491",
   "metadata": {},
   "source": [
    "### ** What is the main difference between a tuple and a list? **"
   ]
  },
  {
   "cell_type": "code",
   "execution_count": 19,
   "id": "a49ca6f9",
   "metadata": {},
   "outputs": [],
   "source": [
    "#Tuple is immutable"
   ]
  },
  {
   "cell_type": "markdown",
   "id": "26e88c14",
   "metadata": {},
   "source": [
    "### ** Create a function that grabs the email website domain from a string in the form: **\n",
    "\n",
    "user@domain.com\n",
    "So for example, passing \"user@domain.com\" would return: domain.com"
   ]
  },
  {
   "cell_type": "code",
   "execution_count": 31,
   "id": "4f4e00cd",
   "metadata": {},
   "outputs": [],
   "source": [
    "def domainGet(email):\n",
    "    return email.split('@')[-1]\n",
    "\n",
    "\n"
   ]
  },
  {
   "cell_type": "code",
   "execution_count": 32,
   "id": "667589e9",
   "metadata": {},
   "outputs": [
    {
     "data": {
      "text/plain": [
       "'domain.com'"
      ]
     },
     "execution_count": 32,
     "metadata": {},
     "output_type": "execute_result"
    }
   ],
   "source": [
    "domainGet('user@domain.com' )"
   ]
  },
  {
   "cell_type": "code",
   "execution_count": 33,
   "id": "ac4ba169",
   "metadata": {},
   "outputs": [
    {
     "data": {
      "text/plain": [
       "'domain.com'"
      ]
     },
     "execution_count": 33,
     "metadata": {},
     "output_type": "execute_result"
    }
   ],
   "source": [
    "domainGet('user@domain.com' )"
   ]
  },
  {
   "cell_type": "markdown",
   "id": "257730a2",
   "metadata": {},
   "source": [
    "### ** Create a basic function that returns True if the word 'cat' is contained in the input string. do account for capitalization. **"
   ]
  },
  {
   "cell_type": "code",
   "execution_count": 34,
   "id": "06ed9648",
   "metadata": {},
   "outputs": [],
   "source": [
    "def findCat(s):\n",
    "    return 'cat'in s.lower().split()"
   ]
  },
  {
   "cell_type": "code",
   "execution_count": 35,
   "id": "8e844c6a",
   "metadata": {},
   "outputs": [],
   "source": [
    "s ='Is there any cat here?'"
   ]
  },
  {
   "cell_type": "code",
   "execution_count": 36,
   "id": "fc6d43a7",
   "metadata": {},
   "outputs": [
    {
     "data": {
      "text/plain": [
       "True"
      ]
     },
     "execution_count": 36,
     "metadata": {},
     "output_type": "execute_result"
    }
   ],
   "source": [
    "findCat(s)"
   ]
  },
  {
   "cell_type": "code",
   "execution_count": null,
   "id": "3f6839f5",
   "metadata": {},
   "outputs": [],
   "source": []
  },
  {
   "cell_type": "markdown",
   "id": "da42a8a2",
   "metadata": {},
   "source": [
    "### * Create a function that counts the number of times the word \"cat\" occurs in a string.  **"
   ]
  },
  {
   "cell_type": "code",
   "execution_count": 51,
   "id": "13320f0f",
   "metadata": {},
   "outputs": [],
   "source": [
    "def countCats(s):\n",
    "    count=0\n",
    "    for word in s.lower().split():\n",
    "        if word == 'cat':\n",
    "            count += 1\n",
    "    return count"
   ]
  },
  {
   "cell_type": "code",
   "execution_count": 53,
   "id": "55b8532b",
   "metadata": {},
   "outputs": [
    {
     "data": {
      "text/plain": [
       "2"
      ]
     },
     "execution_count": 53,
     "metadata": {},
     "output_type": "execute_result"
    }
   ],
   "source": [
    "countCats('this cat has a stronger hunting instinct than another cat')"
   ]
  },
  {
   "cell_type": "markdown",
   "id": "1339d7bc",
   "metadata": {},
   "source": [
    "### Use lambda expressions and the filter() function to filter out words from a list that don't start with the letter 's'. \n",
    "    For example:\n",
    "\n",
    "seq = ['cat', 'simi', 'plant', 'subtropics' ,'gene', 'soup','dog','salad','cat','great']"
   ]
  },
  {
   "cell_type": "code",
   "execution_count": 54,
   "id": "8f94ef51",
   "metadata": {},
   "outputs": [],
   "source": [
    "seq = ['cat', 'simi', 'plant', 'subtropics' ,'gene', 'soup','dog','salad','cat','great']"
   ]
  },
  {
   "cell_type": "code",
   "execution_count": 55,
   "id": "b6fe8764",
   "metadata": {},
   "outputs": [
    {
     "data": {
      "text/plain": [
       "<filter at 0x1cc80506790>"
      ]
     },
     "execution_count": 55,
     "metadata": {},
     "output_type": "execute_result"
    }
   ],
   "source": [
    "filter(lambda word: word[0] == 's', seq)"
   ]
  },
  {
   "cell_type": "code",
   "execution_count": 56,
   "id": "f10670da",
   "metadata": {},
   "outputs": [
    {
     "data": {
      "text/plain": [
       "['simi', 'subtropics', 'soup', 'salad']"
      ]
     },
     "execution_count": 56,
     "metadata": {},
     "output_type": "execute_result"
    }
   ],
   "source": [
    "list(filter(lambda word: word[0] == 's', seq))"
   ]
  },
  {
   "cell_type": "markdown",
   "id": "3c1fa589",
   "metadata": {},
   "source": [
    "### Final Problem\n",
    "*You are driving a little too fast, and a police officer stops you. Write a function to return one of 3 possible results: \"No ticket\", \"Small ticket\", or \"Big Ticket\". If your speed is 60 or less, the result is \"No Ticket\". If speed is between 61 and 80 inclusive, the result is \"Small Ticket\". If speed is 81 or more, the result is \"Big Ticket\". Unless it is your birthday (encoded as a boolean value in the parameters of the function) -- on your birthday, your speed can be 5 higher in all cases. *"
   ]
  },
  {
   "cell_type": "code",
   "execution_count": 67,
   "id": "485568d6",
   "metadata": {},
   "outputs": [],
   "source": [
    "def caught_speeding(speed, is_birthday):\n",
    "    if is_birthday:\n",
    "        speeding = speed -5\n",
    "    else:\n",
    "        speeding = speed\n",
    "    \n",
    "    \n",
    "    if speeding> 80:\n",
    "        return 'Big Ticket'\n",
    "    elif speeding > 60:\n",
    "        return 'Small Ticket'\n",
    "    else: \n",
    "        return 'No Ticket'"
   ]
  },
  {
   "cell_type": "code",
   "execution_count": 68,
   "id": "48612c57",
   "metadata": {},
   "outputs": [
    {
     "data": {
      "text/plain": [
       "'Small Ticket'"
      ]
     },
     "execution_count": 68,
     "metadata": {},
     "output_type": "execute_result"
    }
   ],
   "source": [
    "caught_speeding(84, True)"
   ]
  },
  {
   "cell_type": "code",
   "execution_count": 69,
   "id": "9ff4deb1",
   "metadata": {},
   "outputs": [
    {
     "data": {
      "text/plain": [
       "'Big Ticket'"
      ]
     },
     "execution_count": 69,
     "metadata": {},
     "output_type": "execute_result"
    }
   ],
   "source": [
    "caught_speeding(84,False)"
   ]
  },
  {
   "cell_type": "code",
   "execution_count": 70,
   "id": "d5e4b365",
   "metadata": {},
   "outputs": [
    {
     "data": {
      "text/plain": [
       "'No Ticket'"
      ]
     },
     "execution_count": 70,
     "metadata": {},
     "output_type": "execute_result"
    }
   ],
   "source": [
    "caught_speeding(59,False)"
   ]
  },
  {
   "cell_type": "code",
   "execution_count": null,
   "id": "f634f0ee",
   "metadata": {},
   "outputs": [],
   "source": []
  }
 ],
 "metadata": {
  "kernelspec": {
   "display_name": "Python 3 (ipykernel)",
   "language": "python",
   "name": "python3"
  },
  "language_info": {
   "codemirror_mode": {
    "name": "ipython",
    "version": 3
   },
   "file_extension": ".py",
   "mimetype": "text/x-python",
   "name": "python",
   "nbconvert_exporter": "python",
   "pygments_lexer": "ipython3",
   "version": "3.9.13"
  }
 },
 "nbformat": 4,
 "nbformat_minor": 5
}
